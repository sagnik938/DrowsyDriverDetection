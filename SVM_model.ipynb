{
 "cells": [
  {
   "cell_type": "code",
   "execution_count": 1,
   "metadata": {},
   "outputs": [],
   "source": [
    "import os\n",
    "from keras.preprocessing import image\n",
    "import matplotlib.pyplot as plt \n",
    "import numpy as np\n",
    "from keras.utils.np_utils import to_categorical\n",
    "import random,shutil\n",
    "from keras.models import Sequential\n",
    "from keras.layers import Dropout,Conv2D,Flatten,Dense, MaxPooling2D, BatchNormalization\n",
    "from keras.models import load_model\n",
    "#from tqdm.notebook import tqdm\n",
    "import warnings, cv2\n",
    "from sklearn.preprocessing import LabelEncoder\n",
    "from keras.callbacks import EarlyStopping, ReduceLROnPlateau, ModelCheckpoint\n",
    "from keras.regularizers import l2 as regularize\n",
    "from sklearn.metrics import precision_score, recall_score, f1_score, accuracy_score\n",
    "from sklearn.metrics import confusion_matrix\n",
    "from keras.utils.vis_utils import plot_model"
   ]
  },
  {
   "cell_type": "code",
   "execution_count": 2,
   "metadata": {},
   "outputs": [
    {
     "name": "stdout",
     "output_type": "stream",
     "text": [
      "dataset_new\\train\n"
     ]
    }
   ],
   "source": [
    "train_dir = \"dataset_new\\\\train\"\n",
    "test_dir = \"dataset_new\\\\test\"\n",
    "print(train_dir)\n",
    "#dataset_new\\train"
   ]
  },
  {
   "cell_type": "code",
   "execution_count": 3,
   "metadata": {},
   "outputs": [],
   "source": [
    "def load_images(directory):\n",
    "    images = []\n",
    "    labels = []\n",
    "    \n",
    "    for category in os.listdir(directory):\n",
    "        for filename in (os.listdir(directory+\"\\\\\" +category)):\n",
    "            image_path = os.path.join(directory,category,filename)\n",
    "            image = cv2.imread(image_path)\n",
    "            image = cv2.cvtColor(image,cv2.COLOR_BGR2RGB)\n",
    "            image = cv2.resize(image,(224,224))\n",
    "            images.append(image)\n",
    "            labels.append(category)\n",
    "    \n",
    "    images = np.array(images,dtype='float32')\n",
    "    return images, labels"
   ]
  },
  {
   "cell_type": "code",
   "execution_count": 4,
   "metadata": {},
   "outputs": [],
   "source": [
    "X_train, y_train = load_images(train_dir)\n",
    "X_test, y_test = load_images(test_dir)\n",
    "\n",
    "X_train = X_train / 255.\n",
    "X_test = X_test / 255.\n",
    "encoder = LabelEncoder()\n",
    "y_train = encoder.fit_transform(y_train)\n",
    "y_test = encoder.transform(y_test)\n",
    "y_train = to_categorical(y_train)\n",
    "y_test = to_categorical(y_test)"
   ]
  },
  {
   "cell_type": "code",
   "execution_count": 5,
   "metadata": {},
   "outputs": [
    {
     "name": "stdout",
     "output_type": "stream",
     "text": [
      "Model: \"sequential\"\n",
      "_________________________________________________________________\n",
      " Layer (type)                Output Shape              Param #   \n",
      "=================================================================\n",
      " conv2d (Conv2D)             (None, 222, 222, 16)      448       \n",
      "                                                                 \n",
      " max_pooling2d (MaxPooling2D  (None, 111, 111, 16)     0         \n",
      " )                                                               \n",
      "                                                                 \n",
      " conv2d_1 (Conv2D)           (None, 111, 111, 32)      4640      \n",
      "                                                                 \n",
      " max_pooling2d_1 (MaxPooling  (None, 55, 55, 32)       0         \n",
      " 2D)                                                             \n",
      "                                                                 \n",
      " batch_normalization (BatchN  (None, 55, 55, 32)       128       \n",
      " ormalization)                                                   \n",
      "                                                                 \n",
      " dropout (Dropout)           (None, 55, 55, 32)        0         \n",
      "                                                                 \n",
      " conv2d_2 (Conv2D)           (None, 53, 53, 64)        18496     \n",
      "                                                                 \n",
      " max_pooling2d_2 (MaxPooling  (None, 26, 26, 64)       0         \n",
      " 2D)                                                             \n",
      "                                                                 \n",
      " batch_normalization_1 (Batc  (None, 26, 26, 64)       256       \n",
      " hNormalization)                                                 \n",
      "                                                                 \n",
      " dropout_1 (Dropout)         (None, 26, 26, 64)        0         \n",
      "                                                                 \n",
      " conv2d_3 (Conv2D)           (None, 24, 24, 128)       73856     \n",
      "                                                                 \n",
      " max_pooling2d_3 (MaxPooling  (None, 12, 12, 128)      0         \n",
      " 2D)                                                             \n",
      "                                                                 \n",
      " batch_normalization_2 (Batc  (None, 12, 12, 128)      512       \n",
      " hNormalization)                                                 \n",
      "                                                                 \n",
      " dropout_2 (Dropout)         (None, 12, 12, 128)       0         \n",
      "                                                                 \n",
      " flatten (Flatten)           (None, 18432)             0         \n",
      "                                                                 \n",
      " dense (Dense)               (None, 128)               2359424   \n",
      "                                                                 \n",
      " batch_normalization_3 (Batc  (None, 128)              512       \n",
      " hNormalization)                                                 \n",
      "                                                                 \n",
      " dropout_3 (Dropout)         (None, 128)               0         \n",
      "                                                                 \n",
      " dense_1 (Dense)             (None, 4)                 516       \n",
      "                                                                 \n",
      "=================================================================\n",
      "Total params: 2,458,788\n",
      "Trainable params: 2,458,084\n",
      "Non-trainable params: 704\n",
      "_________________________________________________________________\n"
     ]
    }
   ],
   "source": [
    "cnn = Sequential()\n",
    "\n",
    "cnn.add(Conv2D(filters=16,kernel_size=3,activation='relu',input_shape=(224,224,3)))\n",
    "cnn.add(MaxPooling2D(pool_size=2))\n",
    "\n",
    "cnn.add(Conv2D(filters=32,kernel_size=3,activation='relu',padding='same'))\n",
    "cnn.add(MaxPooling2D(pool_size=2))\n",
    "cnn.add(BatchNormalization())\n",
    "cnn.add(Dropout(0.5))\n",
    "\n",
    "cnn.add(Conv2D(filters=64,kernel_size=3,activation='relu'))\n",
    "cnn.add(MaxPooling2D(pool_size=2))\n",
    "cnn.add(BatchNormalization())\n",
    "cnn.add(Dropout(0.2))\n",
    "\n",
    "cnn.add(Conv2D(filters=128,kernel_size=3,activation='relu'))\n",
    "cnn.add(MaxPooling2D(pool_size=2))\n",
    "cnn.add(BatchNormalization())\n",
    "cnn.add(Dropout(0.25))\n",
    "\n",
    "cnn.add(Flatten())\n",
    "\n",
    "cnn.add(Dense(units=128,activation='relu'))\n",
    "cnn.add(BatchNormalization())\n",
    "cnn.add(Dropout(0.25))\n",
    "\n",
    "#cnn.add(Dense(units=4,activation='softmax'))\n",
    "cnn.add(Dense(4, kernel_regularizer=regularize(0.01),activation\n",
    "             ='softmax'))\n",
    "cnn.summary()\n",
    "#cnn.compile(loss='categorical_crossentropy',optimizer='adam',metrics='accuracy')\n",
    "cnn.compile(optimizer = 'adam', loss = 'squared_hinge', metrics = ['accuracy'])\n"
   ]
  },
  {
   "cell_type": "code",
   "execution_count": null,
   "metadata": {},
   "outputs": [],
   "source": [
    "early_stopping = EarlyStopping(monitor='val_accuracy',patience=20,mode='max',verbose=1,restore_best_weights=True)\n",
    "reduce_lr = ReduceLROnPlateau(monitor='val_accuracy',patience=5,mode='max',verbose=1,factor=0.1,min_lr=0.001)\n",
    "checkpoint_filename = 'checkpoint/'\n",
    "model_checkpoint = ModelCheckpoint(filepath=checkpoint_filename,monitor='val_accuracy',verbose=1,save_best_only=True,save_weights_only=True,mode='max')\n",
    "\n",
    "k = cnn.fit(x=X_train,\n",
    "            y=y_train,\n",
    "            epochs=20,\n",
    "            batch_size=32,\n",
    "            validation_data=(X_test,y_test),\n",
    "            callbacks=[early_stopping,reduce_lr,model_checkpoint])"
   ]
  },
  {
   "cell_type": "code",
   "execution_count": null,
   "metadata": {},
   "outputs": [],
   "source": [
    "plt.plot(k.history['accuracy'], label='train acc')\n",
    "plt.plot(k.history['val_accuracy'], label='val acc')\n",
    "plt.xlabel('Number of Epochs')\n",
    "plt.ylabel('Accuracy')\n",
    "plt.title('Accuracy Graph')\n",
    "plt.legend()\n",
    "plt.show()\n",
    "plt.savefig('AccVal_acc.jpg')"
   ]
  },
  {
   "cell_type": "code",
   "execution_count": null,
   "metadata": {},
   "outputs": [],
   "source": [
    "plt.figure(figsize=(12,8))\n",
    "plt.plot(k.history['loss'],'r',label='train loss')\n",
    "plt.plot(k.history['val_loss'],'b',label='test loss')\n",
    "plt.xlabel('Number of Epochs')\n",
    "plt.ylabel('Loss')\n",
    "plt.title('Loss Graph')\n",
    "plt.legend()\n",
    "plt.show()\n",
    "plt.savefig('LossVal_loss.jpg')"
   ]
  },
  {
   "cell_type": "code",
   "execution_count": null,
   "metadata": {},
   "outputs": [],
   "source": [
    "y_pred = cnn.predict(X_test)\n",
    "#y_pred=np.argmax(y_pred, axis=1)\n",
    "#y_test=np.argmax(y_test, axis=1)\n",
    "conf_matrix = confusion_matrix(y_true=y_test, y_pred=y_pred)\n",
    "#\n",
    "# Print the confusion matrix using Matplotlib\n",
    "#\n",
    "fig, ax = plt.subplots(figsize=(5, 5))\n",
    "ax.matshow(conf_matrix, cmap=plt.cm.Oranges, alpha=0.3)\n",
    "for i in range(conf_matrix.shape[0]):\n",
    "    for j in range(conf_matrix.shape[1]):\n",
    "        ax.text(x=j, y=i,s=conf_matrix[i, j], va='center', ha='center', size='xx-large')\n",
    " "
   ]
  },
  {
   "cell_type": "code",
   "execution_count": null,
   "metadata": {},
   "outputs": [],
   "source": [
    "plt.xlabel('Predictions', fontsize=18)\n",
    "plt.ylabel('Actuals', fontsize=18)\n",
    "plt.title('Confusion Matrix', fontsize=18)\n",
    "plt.show()\n",
    "plt.savefig(\"Cnf matrix.jpg\")\n",
    "print(\"Recall \", recall_score(y_test,y_pred,average = None))\n",
    "print(\"Precision \", precision_score(y_test,y_pred,average = None))\n",
    "print(\"F1 score \", f1_score(y_test,y_pred,average = None))\n",
    "print(\"Accuracy score \", accuracy_score(y_test,y_pred))\n",
    "\n",
    "plot_model(cnn, to_file='model_plot.png', show_shapes=True, show_layer_names=True , show_layer_activations=True)\n",
    "\n",
    "#cnn.save('SVM_1_20.h5')"
   ]
  }
 ],
 "metadata": {
  "kernelspec": {
   "display_name": "Python 3",
   "language": "python",
   "name": "python3"
  },
  "language_info": {
   "codemirror_mode": {
    "name": "ipython",
    "version": 3
   },
   "file_extension": ".py",
   "mimetype": "text/x-python",
   "name": "python",
   "nbconvert_exporter": "python",
   "pygments_lexer": "ipython3",
   "version": "3.8.9"
  },
  "orig_nbformat": 4,
  "vscode": {
   "interpreter": {
    "hash": "04efe29e7dab08d6e33032378015ec22d607125b4b45d98dd71c59df7e49dea2"
   }
  }
 },
 "nbformat": 4,
 "nbformat_minor": 2
}
